{
 "cells": [
  {
   "cell_type": "markdown",
   "metadata": {},
   "source": [
    "## Replication: Dion, Sumner, Mitchell (2018): Gendered Citation Patterns across Political Science and Social Science Methodology Fields\n",
    "\n",
    "### Introduction\n",
    "\n",
    "### "
   ]
  },
  {
   "cell_type": "code",
   "execution_count": 6,
   "metadata": {},
   "outputs": [
    {
     "ename": "ERROR",
     "evalue": "Error in read.dta(\"https://dataverse.harvard.edu/dataset.xhtml?persistentId=doi:10.7910/DVN/R7AQT1#\"): not a Stata version 5-12 .dta file\n",
     "output_type": "error",
     "traceback": [
      "Error in read.dta(\"https://dataverse.harvard.edu/dataset.xhtml?persistentId=doi:10.7910/DVN/R7AQT1#\"): not a Stata version 5-12 .dta file\nTraceback:\n",
      "1. read.dta(\"https://dataverse.harvard.edu/dataset.xhtml?persistentId=doi:10.7910/DVN/R7AQT1#\")"
     ]
    }
   ],
   "source": [
    "library(tidyverse)\n",
    "library(MASS)\n",
    "library(foreign)\n",
    "library(optimx)\n",
    "library(rms)\n",
    "library(flextable)\n",
    "\n",
    "\n",
    "# Data can be found under\n",
    "# https://www.cambridge.org/core/journals/political-analysis/article/gendered-citation-patterns-across-political-science-and-social-science-methodology-fields/5E8E92DB7454BCAE41A912F9E792CBA7#supplementary-materials-tab\n",
    "\n",
    "df <- read.dta(\"Data/DSM2018PAreplication.dta\")\n",
    "df_articles <- read.dta(\"Data/DSM2018PAreplication_articlesonly.dta\")\n",
    "\n",
    "source(\"sources/logistic_function.R\")\n",
    "source(\"sources/execute_logistic_per_journal.R\")\n"
   ]
  },
  {
   "cell_type": "code",
   "execution_count": 5,
   "metadata": {},
   "outputs": [
    {
     "data": {
      "text/plain": [
       "a flextable object.\n",
       "col_keys: ` `, `APSR`, `Politics & Gender`, `Political Analysis`, `Econometrica`, `Soc. Methods & Res.`, `Pooled` \n",
       "header has 1 row(s) \n",
       "body has 12 row(s) \n",
       "original dataset sample: \n",
       "                    APSR Politics & Gender Political Analysis Econometrica\n",
       "1 Intercept -2.07 (0.05)      -0.01 (0.11)       -2.84 (0.09) -3.18 (0.06)\n",
       "2    Female  0.99 (0.16)       0.53 (0.12)        0.42 (0.38)  1.14 (0.22)\n",
       "3     Mixed  0.21 (0.13)      -0.15 (0.16)       -0.08 (0.16)  0.07 (0.14)\n",
       "4       P&G                                                               \n",
       "5        PA                                                               \n",
       "  Soc. Methods & Res.       Pooled\n",
       "1         -2.46 (0.1) -2.02 (0.05)\n",
       "2         0.76 (0.28)   0.86 (0.1)\n",
       "3         0.06 (0.18)  0.11 (0.08)\n",
       "4                       1.73 (0.1)\n",
       "5                     -0.89 (0.09)"
      ]
     },
     "metadata": {},
     "output_type": "display_data"
    }
   ],
   "source": [
    "models <- do.call(\"cbind\", lapply(unique(df$newjnlid), logistic_per_journal) )\n",
    "pooled <- logistic_per_journal(\"Pooled\")\n",
    "\n",
    "flextable(cbind.data.frame(models, pooled) %>% rownames_to_column(\" \"))"
   ]
  },
  {
   "cell_type": "code",
   "execution_count": null,
   "metadata": {},
   "outputs": [],
   "source": []
  }
 ],
 "metadata": {
  "kernelspec": {
   "display_name": "R",
   "language": "R",
   "name": "ir"
  },
  "language_info": {
   "codemirror_mode": "r",
   "file_extension": ".r",
   "mimetype": "text/x-r-source",
   "name": "R",
   "pygments_lexer": "r",
   "version": "4.2.1"
  }
 },
 "nbformat": 4,
 "nbformat_minor": 4
}
