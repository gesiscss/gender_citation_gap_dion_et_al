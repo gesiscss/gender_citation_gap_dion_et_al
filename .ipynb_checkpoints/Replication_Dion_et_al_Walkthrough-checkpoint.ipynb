{
 "cells": [
  {
   "cell_type": "markdown",
   "metadata": {},
   "source": [
    "## Replication: Dion, Sumner, Mitchell (2018): Gendered Citation Patterns across Political Science and Social Science Methodology Fields\n",
    "\n",
    "### Introduction\n",
    "\n",
    "### "
   ]
  },
  {
   "cell_type": "code",
   "execution_count": 2,
   "metadata": {},
   "outputs": [
    {
     "data": {
      "text/html": [
       "2.2"
      ],
      "text/latex": [
       "2.2"
      ],
      "text/markdown": [
       "2.2"
      ],
      "text/plain": [
       "[1] 2.2"
      ]
     },
     "metadata": {},
     "output_type": "display_data"
    }
   ],
   "source": [
    "library(tidyverse)\n",
    "library(MASS)\n",
    "library(foreign)\n",
    "library(optimx)\n",
    "library(rms)\n",
    "library(flextable)\n",
    "\n",
    "\n",
    "# Data can be found under\n",
    "# https://www.cambridge.org/core/journals/political-analysis/article/gendered-citation-patterns-across-political-science-and-social-science-methodology-fields/5E8E92DB7454BCAE41A912F9E792CBA7#supplementary-materials-tab\n",
    "\n",
    "df <- read.dta(\"Data/DSM2018PAreplication.dta\")\n",
    "\n",
    "df_articles <- read.dta(\"Data/DSM2018PAreplication_articlesonly.dta\")\n",
    "\n",
    "source(\"sources/logistic_function.R\")\n",
    "source(\"sources/execute_logistic_per_journal\")\n"
   ]
  },
  {
   "cell_type": "code",
   "execution_count": null,
   "metadata": {},
   "outputs": [],
   "source": [
    "models <- do.call(\"cbind\", lapply(unique(df$newjnlid), logistic_per_journal) )\n",
    "pooled <- logistic_per_journal(\"Pooled\")\n",
    "\n",
    "flextable(cbind.data.frame(models, pooled) %>% rownames_to_column(\" \"))"
   ]
  }
 ],
 "metadata": {
  "kernelspec": {
   "display_name": "R",
   "language": "R",
   "name": "ir"
  },
  "language_info": {
   "codemirror_mode": "r",
   "file_extension": ".r",
   "mimetype": "text/x-r-source",
   "name": "R",
   "pygments_lexer": "r",
   "version": "4.2.1"
  }
 },
 "nbformat": 4,
 "nbformat_minor": 4
}
